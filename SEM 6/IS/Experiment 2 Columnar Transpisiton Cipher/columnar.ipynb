import numpy as np
from PIL import Image
import matplotlib.pyplot as plt
from google.colab.patches import cv2_imshow

plt.figure(figsize=[7, 5])


def ImageImport(file):
    img = Image.open(file)
    img1 = img.convert("L")
    imgArr = np.array(img1)
    return imgArr


# plt.imshow(matrix)
def encryption(image, key):
    imgInput = image.shape
    inputrows = imgInput[0]
    n = len(key)
    sortedKey = sorted(key)
    divisible = imgInput[1] // len(sortedKey)
    numRows = imgInput[0]
    numCols = divisible * len(sortedKey) + imgInput[1] % len(sortedKey)
    matrix1 = np.zeros((numRows, numCols))
    hashmap = {i: sortedKey[i] for i in range(0, len(sortedKey))}
    hashmap = {value: key for key, value in hashmap.items()}
    print("Order of alphabets in the entered string key :", hashmap)
    transpose = matrix.T
    transpose1 = matrix1.T
    for i in range(0, numCols - imgInput[1] % len(sortedKey)):
        currentItem = key[i % len(key)]
        currentIndex = hashmap[currentItem]
        a = i // len(key)
        b = len(key) * a
        c = b + currentIndex
        transpose1[i] = transpose[c]
    final = transpose1.T
    print()
    flattening = final.flatten()
    rolling = np.roll(flattening, numCols // 2)
    reshaping = rolling.reshape(numRows, numCols)
    transposing = reshaping.T
    # plt.imshow(transposing)
    return transposing


def decryption(matrix, key):
    decrypttranspose = matrix.T
    imgInput = decrypttranspose.shape
    inputrows = imgInput[0]
    n = len(key)
    sortedKey = sorted(key)
    divisible = imgInput[1] // len(sortedKey)
    numRows = imgInput[0]
    numCols = divisible * len(sortedKey) + imgInput[1] % len(sortedKey)
    matrix1 = np.zeros((numRows, numCols))
    hashmap = {i: sortedKey[i] for i in range(0, len(sortedKey))}
    hashmap = {value: key for key, value in hashmap.items()}
    reflattening = decrypttranspose.flatten()
    rerolling = np.roll(reflattening, numCols // 2)
    retranspose = rerolling.reshape(numRows, numCols)
    # plt.imshow(retranspose)
    finaldecrypt = np.zeros((numCols, numRows))
    retranspose1 = retranspose.T
    for i in range(0, numCols - imgInput[1] % len(sortedKey)):
        currentItem = key[i % len(key)]
        currentIndex = hashmap[currentItem]
        a = i // len(key)
        b = len(key) * a
        c = b + currentIndex
        finaldecrypt[c] = retranspose1[i]
    finaldecrypt = finaldecrypt.T
    # plt.imshow(finaldecrypt)
    return finaldecrypt


print(
    "**********************Single Columnar Transformation Algorithm**********************"
)
s = input("Enter the string key : ")
print("Length of the entered string key :", len(s))
print()
matrix = ImageImport("Brocolli.jpg")
print("Original Image (in Grayscale Format) :")
print(matrix)
cv2_imshow(matrix)
print()
encryptedImage = encryption(matrix, s)
print("Encrypted Image :")
print(encryptedImage)
cv2_imshow(encryptedImage)
# plt.show()
# plt.imshow(encryptedImgage)
print()
decryptedImage = decryption(encryptedImage, s)
print("Decrypted Image :")
print(decryptedImage)
cv2_imshow(decryptedImage)
# plt.show()
