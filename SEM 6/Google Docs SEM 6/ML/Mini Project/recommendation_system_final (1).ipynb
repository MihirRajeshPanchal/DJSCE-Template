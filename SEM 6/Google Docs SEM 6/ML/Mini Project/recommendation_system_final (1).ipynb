{
  "cells": [
    {
      "cell_type": "markdown",
      "metadata": {
        "id": "MAZBP6aLFUN0"
      },
      "source": [
        "# CF Recommendation System\n",
        "\n",
        "**Aim:** The aim of this project is to build a CF recommendation engine using the **Book-Crossing** dataset."
      ]
    },
    {
      "cell_type": "code",
      "execution_count": 3,
      "metadata": {
        "colab": {
          "base_uri": "https://localhost:8080/",
          "height": 0
        },
        "id": "NAcIIMiEFUN4",
        "outputId": "84c102c0-1861-420e-8f39-3f085d9faa6c",
        "scrolled": true
      },
      "outputs": [
        {
          "output_type": "stream",
          "name": "stderr",
          "text": [
            "/usr/local/lib/python3.7/dist-packages/IPython/core/interactiveshell.py:2882: DtypeWarning: Columns (3) have mixed types.Specify dtype option on import or set low_memory=False.\n",
            "  exec(code_obj, self.user_global_ns, self.user_ns)\n"
          ]
        }
      ],
      "source": [
        "#import packages\n",
        "import pandas as pd\n",
        "import numpy as np\n",
        "import matplotlib.pyplot as plt\n",
        "import pickle\n",
        "from surprise import Reader, Dataset\n",
        "from surprise import model_selection, accuracy\n",
        "from surprise import NMF\n",
        "from surprise import SVD\n",
        "from surprise import SVDpp\n",
        "from surprise import CoClustering\n",
        "from surprise import KNNBasic\n",
        "from surprise import KNNWithMeans\n",
        "from surprise import KNNWithZScore\n",
        "plt.style.use('seaborn-white') # Use seaborn-style plots\n",
        "%matplotlib inline\n",
        "\n",
        "#Read files.\n",
        "import os\n",
        "global directory; directory = '../BookRating'\n",
        "def files(): return os.listdir(directory)\n",
        "\n",
        "Users = pd.read_csv('BX-Users.csv', sep = \";\", encoding='cp1252')\n",
        "Ratings = pd.read_csv('BX-Book-Ratings.csv', sep = \";\", encoding='cp1252')\n",
        "Books = pd.read_csv('BX-Books.csv', sep=\";\", usecols=range(5), encoding ='iso-8859-1')\n",
        "\n",
        "\n",
        "#Clean data with replacement of missing and invalid data\n",
        "#Users \n",
        "Users.columns = Users.columns.str.strip().str.lower().str.replace('-', '_')\n",
        "Users.user_id = Users.user_id.astype(int)\n",
        "#User ages\n",
        "#invalid ages of users such as, 224 years old and 0 years old observed\n",
        "std = Users.age.std(); mode = int(Users.age.mode().values.tolist()[0]); len_fillna = len(Users.index)\n",
        "#learn stasticis of data\n",
        "df_copy = Users.copy()\n",
        "df_normalize = df_copy.age.value_counts().rename_axis('age').reset_index(name = 'user_counts') \n",
        "df_normalize = df_normalize.sort_values(by=['age'])\n",
        "df_normalize['id'] = df_copy['user_id']\n",
        "df_normalize = df_normalize.assign(precent_counts=lambda x: x.user_counts.cumsum() / x.user_counts.sum())\n",
        "#define where the 0.5% to 99.5% user count of age interval is \n",
        "age_high = max(df_normalize.loc[(df_normalize['precent_counts'] >= 0.005) &\\\n",
        "                                (df_normalize['precent_counts'] <= 0.995)].age.unique().tolist())\n",
        "age_low = min(df_normalize.loc[(df_normalize['precent_counts'] >= 0.005) & \\\n",
        "                               (df_normalize['precent_counts'] <= 0.995)].age.unique().tolist())\n",
        "#fill invalid and missing ages with random normal distributed numbers\n",
        "#shifting mean to mode(mean = mode in normaldistribution)\n",
        "fillna_list = (np.random.normal(mode, std, 1000)).tolist()\n",
        "Users.loc[(Users.age<5) | (Users.age>90), 'age'] = np.nan\n",
        "Users.age = Users.age.fillna(pd.Series(fillna_list))\n",
        "#User locations\n",
        "#originally format: location : 'farnborough, hants, united kingdom'\n",
        "#break into three columns to better check validity\n",
        "tmp_list = Users.location.str.split(',', 2, expand=True)\n",
        "tmp_list.describe(include=[object])\n",
        "#fill nan with 'other'\n",
        "tmp_list.fillna('other', inplace=True)\n",
        "Users['city'] = tmp_list[0];Users['state'] = tmp_list[1];Users['country'] = tmp_list[2]\n",
        "Users.drop(columns=['location'], inplace=True)\n",
        "\n",
        "#Books\n",
        "Books.columns = Books.columns.str.strip().str.lower().str.replace('-', '_')\n",
        "Books.year_of_publication = pd.to_numeric(Books.year_of_publication, errors='coerce')\n",
        "#replace outscaled publication years\n",
        "std = Books.year_of_publication.std()\n",
        "mode = int(Books.year_of_publication.mode().values.tolist()[0])\n",
        "len_fillna = len(Books.index)\n",
        "#learn statistical information of book counts on year of publication\n",
        "df_normalize={}\n",
        "df_copy = Books.copy()\n",
        "df_copy.year_of_publication.replace(0, np.nan, inplace=True)\n",
        "df_normalize = df_copy.year_of_publication.value_counts().rename_axis('year').reset_index(name = 'book_counts') \n",
        "df_normalize = df_normalize.sort_values(by=['year'])\n",
        "df_normalize['id'] = df_copy['isbn']\n",
        "df_normalize = df_normalize.assign(precent_counts=lambda x: x.book_counts.cumsum() / x.book_counts.sum())\n",
        "year_high = max(df_normalize.loc[(df_normalize['precent_counts'] >= 0.005) &\\\n",
        "                                 (df_normalize['precent_counts'] <= 0.995)].year.unique().tolist())\n",
        "year_low = min(df_normalize.loc[(df_normalize['precent_counts'] >= 0.005) &\\\n",
        "                                (df_normalize['precent_counts'] <= 0.995)].year.unique().tolist())\n",
        "#fill outscaled year and missing year(originally nan, became 0 after to_numeric)\n",
        "fillna_list = (np.random.normal(mode, std, 1000)).tolist()\n",
        "Books.loc[(Books.year_of_publication<1960) | (Books.year_of_publication>2020), 'year_of_publication'] = np.nan\n",
        "Books.year_of_publication = Books.year_of_publication.fillna(pd.Series(fillna_list))\n",
        "#we cannot recommend books without a title...\n",
        "Books.dropna(subset=['book_title'], inplace=True)\n",
        "\n",
        "#Ratings\n",
        "Ratings.columns = Ratings.columns.str.strip().str.lower().str.replace('-', '_')\n",
        "#extract explict ratings: 1-10\n",
        "Ratings_ex = Ratings[Ratings.book_rating != 0]\n",
        "#rescale with corrected user and book IDs from Users and Books\n",
        "Book_Ratings_ex = Ratings_ex[Ratings_ex.isbn.isin(Books.isbn)]\n",
        "User_Book_Ratings_ex = Book_Ratings_ex[Book_Ratings_ex.user_id.isin(Users.user_id)]\n",
        "#Copy unprocessed df for plotting\n",
        "User_Book_Ratings_ = User_Book_Ratings_ex.copy()#this only for plotting\n",
        "#locate lazy users with ratings <10\n",
        "df_copy = User_Book_Ratings_ex.copy()\n",
        "df_normalize = df_copy.user_id.value_counts().rename_axis('user_id').reset_index(name = 'ratings_counts')\n",
        "df_normalize = df_normalize.sort_values(by=['ratings_counts'])\n",
        "lazy_users = df_normalize.loc[(df_normalize.ratings_counts < 10),'user_id'].unique().tolist()\n",
        "#remove rows with lazy users\n",
        "User_Book_Ratings_ex.loc[(User_Book_Ratings_ex['user_id'].isin(lazy_users))] = np.nan\n",
        "User_Book_Ratings_ex.dropna(inplace=True)\n",
        "#books with ratings\n",
        "Book_with_r = User_Book_Ratings_ex.join(Books.set_index('isbn'), on='isbn')\n",
        "#book,users with ratings\n",
        "User_Book_r = Book_with_r.join(Users.set_index('user_id'), on='user_id')\n",
        "\n",
        "#Surprise Read\n",
        "reader = Reader(rating_scale=(1, 10))\n",
        "data = Dataset.load_from_df(User_Book_Ratings_ex[['user_id', 'isbn', 'book_rating']], reader)"
      ]
    },
    {
      "cell_type": "code",
      "execution_count": 4,
      "metadata": {
        "colab": {
          "base_uri": "https://localhost:8080/",
          "height": 0
        },
        "id": "eKb2gd93FUN8",
        "outputId": "fe4cc12b-7dba-4ce7-b4d1-dd3638bae95a"
      },
      "outputs": [
        {
          "output_type": "execute_result",
          "data": {
            "text/plain": [
              "<surprise.dataset.DatasetAutoFolds at 0x7f5b848139d0>"
            ]
          },
          "metadata": {},
          "execution_count": 4
        }
      ],
      "source": [
        "data"
      ]
    },
    {
      "cell_type": "code",
      "source": [
        "data_train = Dataset.load_from_df(User_Book_Ratings_ex[['user_id', 'isbn', 'book_rating']], reader)\n",
        "data_test = Dataset.load_from_df(User_Book_Ratings_ex[['user_id', 'isbn', 'book_rating']], reader)\n",
        "# Build full trainset\n",
        "data_train = data_train.build_full_trainset()\n",
        "data_test = data_test.build_full_trainset()\n",
        "\n",
        "# Create the trainset and testset\n",
        "data_trainset = data_train.build_testset()\n",
        "data_testset = data_test.build_testset()"
      ],
      "metadata": {
        "id": "idCrvM6gOxdQ"
      },
      "execution_count": 5,
      "outputs": []
    },
    {
      "cell_type": "code",
      "source": [
        "from collections import defaultdict\n",
        "def precision_recall_at_k(predictions, k = 10, threshold = 5):\n",
        "    \n",
        "    # First map the predictions to each user.\n",
        "    user_est_true = defaultdict(list)\n",
        "    for uid, _, true_r, est, _ in predictions:\n",
        "        user_est_true[uid].append((est, true_r))\n",
        "    \n",
        "    precisions = dict()\n",
        "    recalls = dict()\n",
        "    for uid, user_ratings in user_est_true.items():\n",
        "        \n",
        "        # Sort user ratings by estimated value\n",
        "        user_ratings.sort(key=lambda x: x[0], reverse=True)\n",
        "        \n",
        "        # Number of relevant items\n",
        "        n_rel = sum((true_r >= threshold) for (_, true_r) in user_ratings)\n",
        "        \n",
        "        # Number of recommended items in top k\n",
        "        n_rec_k = sum((est >= threshold) for (est, _) in user_ratings[:k])\n",
        "        \n",
        "        # Number of relevant and recommended items in top k\n",
        "        n_rel_and_rec_k = sum(((true_r >= threshold) and (est >= threshold)) for (est, true_r) in user_ratings[:k])\n",
        "        \n",
        "        # Precision@K: Proportion of recommended items that are relevant\n",
        "        precisions[uid] = n_rel_and_rec_k / n_rec_k if n_rec_k != 0 else 1\n",
        "        \n",
        "        # Recall@K: Proportion of relevant items that are recommended\n",
        "        recalls[uid] = n_rel_and_rec_k / n_rel if n_rel != 0 else 1\n",
        "    \n",
        "    return precisions, recalls;"
      ],
      "metadata": {
        "id": "ZZN5GiEFO4b6"
      },
      "execution_count": 6,
      "outputs": []
    },
    {
      "cell_type": "code",
      "source": [
        "def get_precision_vs_recall(algo, k_max = 10, verbose = False):\n",
        "    precision_list = []\n",
        "    recall_list = []\n",
        "    f1_score_list = []\n",
        "    \n",
        "    if algo:\n",
        "        for k_curr in range(1, k_max + 1):\n",
        "            algo.fit(data_train)\n",
        "            predictions = algo.test(data_testset)\n",
        "            \n",
        "            # Get precision and recall at k metrics for each user\n",
        "            precisions, recalls = precision_recall_at_k(predictions, k = k_curr, threshold = 5)\n",
        "            \n",
        "            # Precision and recall can then be averaged over all users\n",
        "            precision = sum(prec for prec in precisions.values()) / len(precisions)\n",
        "            recall = sum(rec for rec in recalls.values()) / len(recalls)\n",
        "            f1_score = 2 * (precision * recall) / (precision + recall)\n",
        "            \n",
        "            # Save measures\n",
        "            precision_list.append(precision)\n",
        "            recall_list.append(recall)\n",
        "            f1_score_list.append(f1_score)\n",
        "            \n",
        "            if verbose:\n",
        "                print('K =', k_curr, '- Precision:', precision, ', Recall:', recall, ', F1 score:', f1_score)\n",
        "    \n",
        "    return {'precision': precision_list, 'recall': recall_list, 'f1_score': f1_score_list};"
      ],
      "metadata": {
        "id": "zsLKSbssO6ID"
      },
      "execution_count": 7,
      "outputs": []
    },
    {
      "cell_type": "markdown",
      "metadata": {
        "id": "1SFKX3aLFUN9"
      },
      "source": [
        "### SVD model"
      ]
    },
    {
      "cell_type": "markdown",
      "metadata": {
        "id": "EZ4NK9dWFUN9"
      },
      "source": [
        "**_Using cross-validation (5 folds)_**"
      ]
    },
    {
      "cell_type": "code",
      "execution_count": 8,
      "metadata": {
        "colab": {
          "base_uri": "https://localhost:8080/",
          "height": 0
        },
        "id": "TSvMMCoSFUN9",
        "outputId": "34ac3568-3913-414e-ca4e-37fa48473915"
      },
      "outputs": [
        {
          "output_type": "stream",
          "name": "stdout",
          "text": [
            "Evaluating RMSE, MAE of algorithm SVD on 5 split(s).\n",
            "\n",
            "                  Fold 1  Fold 2  Fold 3  Fold 4  Fold 5  Mean    Std     \n",
            "RMSE (testset)    1.5698  1.5756  1.5752  1.5691  1.5769  1.5733  0.0032  \n",
            "MAE (testset)     1.2031  1.2077  1.2073  1.2016  1.2091  1.2057  0.0029  \n",
            "Fit time          16.86   16.68   17.18   17.87   17.18   17.15   0.41    \n",
            "Test time         0.56    0.55    1.10    1.14    0.57    0.78    0.28    \n",
            "CPU times: user 1min 35s, sys: 785 ms, total: 1min 36s\n",
            "Wall time: 1min 37s\n"
          ]
        },
        {
          "output_type": "execute_result",
          "data": {
            "text/plain": [
              "{'fit_time': (16.860729455947876,\n",
              "  16.679818153381348,\n",
              "  17.183526039123535,\n",
              "  17.868391275405884,\n",
              "  17.178322553634644),\n",
              " 'test_mae': array([1.20305798, 1.20771577, 1.20727391, 1.20158477, 1.2091107 ]),\n",
              " 'test_rmse': array([1.56982933, 1.57564833, 1.57515131, 1.56914149, 1.57689657]),\n",
              " 'test_time': (0.5554273128509521,\n",
              "  0.5539186000823975,\n",
              "  1.1023268699645996,\n",
              "  1.1365149021148682,\n",
              "  0.5650942325592041)}"
            ]
          },
          "metadata": {},
          "execution_count": 8
        }
      ],
      "source": [
        "# Load SVD algorithm\n",
        "data = Dataset.load_from_df(User_Book_Ratings_ex[['user_id', 'isbn', 'book_rating']], reader)\n",
        "model = SVD()\n",
        "# Train on books dataset\n",
        "%time model_selection.cross_validate(model, data, measures=['RMSE','MAE'],cv=5, verbose=True)"
      ]
    },
    {
      "cell_type": "code",
      "execution_count": 9,
      "metadata": {
        "colab": {
          "base_uri": "https://localhost:8080/",
          "height": 0
        },
        "id": "mbMH0Xw5FUN-",
        "outputId": "15ba74f9-b9e4-4e9d-a669-3a68a6acbc05"
      },
      "outputs": [
        {
          "output_type": "stream",
          "name": "stdout",
          "text": [
            "K = 1 - Precision: 0.9998482319016543 , Recall: 0.05579733130914479 , F1 score: 0.10569620144965058\n",
            "K = 2 - Precision: 0.9999241159508271 , Recall: 0.11158984458342144 , F1 score: 0.2007736846427666\n",
            "K = 3 - Precision: 0.999797642535539 , Recall: 0.16719300361234304 , F1 score: 0.28647902433808176\n",
            "K = 4 - Precision: 0.9998102898770679 , Recall: 0.2227130624898658 , F1 score: 0.3642806677455906\n",
            "K = 5 - Precision: 0.9995446957049631 , Recall: 0.27808796711691974 , F1 score: 0.4351193587320559\n",
            "K = 6 - Precision: 0.999134921839429 , Recall: 0.3330542531117816 , F1 score: 0.49957789990797125\n",
            "K = 7 - Precision: 0.9985473624872622 , Recall: 0.38787846561885575 , F1 score: 0.5587244711653905\n",
            "K = 8 - Precision: 0.9978295355173485 , Recall: 0.44204115267307115 , F1 score: 0.6126685148451217\n",
            "K = 9 - Precision: 0.99597459209312 , Recall: 0.4946891994966288 , F1 score: 0.6610449337554234\n",
            "K = 10 - Precision: 0.9916357107926367 , Recall: 0.5438960904203768 , F1 score: 0.7024885916335728\n"
          ]
        },
        {
          "output_type": "execute_result",
          "data": {
            "text/plain": [
              "0.4426853348215626"
            ]
          },
          "metadata": {},
          "execution_count": 9
        }
      ],
      "source": [
        "k_max = 10\n",
        "metrics = get_precision_vs_recall(model, k_max, True)\n",
        "np.mean(metrics['f1_score'])"
      ]
    },
    {
      "cell_type": "code",
      "execution_count": 10,
      "metadata": {
        "id": "qznlXvWhFUN-",
        "colab": {
          "base_uri": "https://localhost:8080/",
          "height": 0
        },
        "outputId": "317d0b0c-f245-4079-efb6-57684249d396"
      },
      "outputs": [
        {
          "output_type": "stream",
          "name": "stdout",
          "text": [
            "Evaluating RMSE, MAE of algorithm NMF on 5 split(s).\n",
            "\n",
            "                  Fold 1  Fold 2  Fold 3  Fold 4  Fold 5  Mean    Std     \n",
            "RMSE (testset)    2.4806  2.4921  2.4933  2.5014  2.4794  2.4894  0.0083  \n",
            "MAE (testset)     2.0750  2.0864  2.0833  2.0928  2.0741  2.0823  0.0070  \n",
            "Fit time          31.31   39.36   31.79   31.08   33.27   33.36   3.09    \n",
            "Test time         0.56    1.02    0.47    0.53    0.47    0.61    0.21    \n",
            "CPU times: user 2min 52s, sys: 983 ms, total: 2min 53s\n",
            "Wall time: 2min 58s\n"
          ]
        },
        {
          "output_type": "execute_result",
          "data": {
            "text/plain": [
              "{'fit_time': (31.311033964157104,\n",
              "  39.36028790473938,\n",
              "  31.789538860321045,\n",
              "  31.080713510513306,\n",
              "  33.26743459701538),\n",
              " 'test_mae': array([2.07502911, 2.08635141, 2.0833456 , 2.09275141, 2.07409809]),\n",
              " 'test_rmse': array([2.48059309, 2.49211297, 2.49331934, 2.50142588, 2.47936988]),\n",
              " 'test_time': (0.557966947555542,\n",
              "  1.0183773040771484,\n",
              "  0.47131800651550293,\n",
              "  0.5309674739837646,\n",
              "  0.46712732315063477)}"
            ]
          },
          "metadata": {},
          "execution_count": 10
        }
      ],
      "source": [
        "# Load NMF algorithm\n",
        "data = Dataset.load_from_df(User_Book_Ratings_ex[['user_id', 'isbn', 'book_rating']], reader)\n",
        "model1 = NMF()\n",
        "# Train on books dataset\n",
        "%time model_selection.cross_validate(model1, data, measures=['RMSE','MAE'], cv=5, verbose=True)"
      ]
    },
    {
      "cell_type": "code",
      "execution_count": 11,
      "metadata": {
        "id": "_J-A-Xd3FUN_",
        "colab": {
          "base_uri": "https://localhost:8080/",
          "height": 0
        },
        "outputId": "6abab899-701f-4c5b-ab63-556ead6bb36d"
      },
      "outputs": [
        {
          "output_type": "stream",
          "name": "stdout",
          "text": [
            "K = 1 - Precision: 1.0 , Recall: 0.05524559890643533 , F1 score: 0.10470661799241249\n",
            "K = 2 - Precision: 1.0 , Recall: 0.1098057269975583 , F1 score: 0.19788279034137637\n",
            "K = 3 - Precision: 1.0 , Recall: 0.16334331963326854 , F1 score: 0.28081705009448243\n",
            "K = 4 - Precision: 1.0 , Recall: 0.21592285522881424 , F1 score: 0.3551588068277268\n",
            "K = 5 - Precision: 1.0 , Recall: 0.26688848517970687 , F1 score: 0.4213290882375476\n",
            "K = 6 - Precision: 1.0 , Recall: 0.3158776216621674 , F1 score: 0.4801018217228477\n",
            "K = 7 - Precision: 1.0 , Recall: 0.3617987975993809 , F1 score: 0.5313542620792007\n",
            "K = 8 - Precision: 0.9999810289877068 , Recall: 0.4042794876275877 , F1 score: 0.575778943085118\n",
            "K = 9 - Precision: 1.0 , Recall: 0.441830938923261 , F1 score: 0.6128748204740483\n",
            "K = 10 - Precision: 1.0 , Recall: 0.47361271837192387 , F1 score: 0.6427913012248978\n"
          ]
        },
        {
          "output_type": "execute_result",
          "data": {
            "text/plain": [
              "0.4202795502079658"
            ]
          },
          "metadata": {},
          "execution_count": 11
        }
      ],
      "source": [
        "k_max = 10\n",
        "metrics = get_precision_vs_recall(model1, k_max, True)\n",
        "np.mean(metrics['f1_score'])"
      ]
    },
    {
      "cell_type": "code",
      "execution_count": 12,
      "metadata": {
        "id": "TWGe1ZjeFUOA",
        "scrolled": false,
        "colab": {
          "base_uri": "https://localhost:8080/",
          "height": 0
        },
        "outputId": "567a7c45-b643-4452-fb7c-02350585da36"
      },
      "outputs": [
        {
          "output_type": "stream",
          "name": "stdout",
          "text": [
            "Evaluating RMSE, MAE of algorithm CoClustering on 5 split(s).\n",
            "\n",
            "                  Fold 1  Fold 2  Fold 3  Fold 4  Fold 5  Mean    Std     \n",
            "RMSE (testset)    1.8503  1.8442  1.8490  1.8392  1.8295  1.8424  0.0076  \n",
            "MAE (testset)     1.4350  1.4334  1.4331  1.4286  1.4190  1.4298  0.0058  \n",
            "Fit time          17.86   18.11   18.21   18.39   18.13   18.14   0.17    \n",
            "Test time         0.41    0.91    0.94    0.43    0.42    0.62    0.25    \n",
            "CPU times: user 1min 40s, sys: 1.69 s, total: 1min 42s\n",
            "Wall time: 1min 41s\n"
          ]
        },
        {
          "output_type": "execute_result",
          "data": {
            "text/plain": [
              "{'fit_time': (17.85654902458191,\n",
              "  18.105318069458008,\n",
              "  18.209877252578735,\n",
              "  18.394307136535645,\n",
              "  18.134732723236084),\n",
              " 'test_mae': array([1.43503875, 1.43336576, 1.43306204, 1.42860888, 1.41898729]),\n",
              " 'test_rmse': array([1.85027006, 1.84417221, 1.84901418, 1.83917768, 1.82947324]),\n",
              " 'test_time': (0.4101369380950928,\n",
              "  0.9138638973236084,\n",
              "  0.9407472610473633,\n",
              "  0.4281480312347412,\n",
              "  0.4210042953491211)}"
            ]
          },
          "metadata": {},
          "execution_count": 12
        }
      ],
      "source": [
        "data = Dataset.load_from_df(User_Book_Ratings_ex[['user_id', 'isbn', 'book_rating']], reader)\n",
        "CoClusteringmodel = CoClustering()\n",
        "\n",
        "%time model_selection.cross_validate(CoClusteringmodel, data, measures=['RMSE','MAE'], cv=5, verbose=True)"
      ]
    },
    {
      "cell_type": "code",
      "execution_count": 13,
      "metadata": {
        "id": "NQUImBe4FUOA",
        "colab": {
          "base_uri": "https://localhost:8080/",
          "height": 0
        },
        "outputId": "e8703824-a6f3-44a4-fe2c-fc9d93b233ef"
      },
      "outputs": [
        {
          "output_type": "stream",
          "name": "stderr",
          "text": [
            "/usr/local/lib/python3.7/dist-packages/ipykernel_launcher.py:8: DeprecationWarning: `np.int` is a deprecated alias for the builtin `int`. To silence this warning, use `int` by itself. Doing this will not modify any behavior and is safe. When replacing `np.int`, you may wish to use e.g. `np.int64` or `np.int32` to specify the precision. If you wish to review your current use, check the release note link for additional information.\n",
            "Deprecated in NumPy 1.20; for more details and guidance: https://numpy.org/devdocs/release/1.20.0-notes.html#deprecations\n",
            "  \n"
          ]
        },
        {
          "output_type": "stream",
          "name": "stdout",
          "text": [
            "K = 1 - Precision: 0.9969646380330854 , Recall: 0.05512642109162179 , F1 score: 0.10447592339657687\n",
            "K = 2 - Precision: 0.9976475944756412 , Recall: 0.11004552557129002 , F1 score: 0.19822575744508308\n",
            "K = 3 - Precision: 0.9949410633884769 , Recall: 0.16373907926880796 , F1 score: 0.2812005274766217\n",
            "K = 4 - Precision: 0.9942707542874489 , Recall: 0.2165629003373678 , F1 score: 0.355659354935639\n",
            "K = 5 - Precision: 0.9930641979056036 , Recall: 0.26992855848645086 , F1 score: 0.42447810736604713\n",
            "K = 6 - Precision: 0.9919158192947816 , Recall: 0.32199724299643673 , F1 score: 0.48617243905088786\n",
            "K = 7 - Precision: 0.9897299973259928 , Recall: 0.3714519956040015 , F1 score: 0.5401734441469219\n",
            "K = 8 - Precision: 0.9894698234431125 , Recall: 0.42074086573055813 , F1 score: 0.5904229677533639\n",
            "K = 9 - Precision: 0.9888706405818194 , Recall: 0.4714597772805751 , F1 score: 0.6385030761058008\n",
            "K = 10 - Precision: 0.9860509459006882 , Recall: 0.5067618906964805 , F1 score: 0.6694650922304823\n"
          ]
        },
        {
          "output_type": "execute_result",
          "data": {
            "text/plain": [
              "0.4288776689907425"
            ]
          },
          "metadata": {},
          "execution_count": 13
        }
      ],
      "source": [
        "k_max = 10\n",
        "metrics = get_precision_vs_recall(CoClusteringmodel, k_max, True)\n",
        "np.mean(metrics['f1_score'])"
      ]
    },
    {
      "cell_type": "code",
      "execution_count": 14,
      "metadata": {
        "id": "tmfP2A4aFUOA",
        "colab": {
          "base_uri": "https://localhost:8080/",
          "height": 0
        },
        "outputId": "fadeb98e-e55a-485e-de1f-aa105df35957"
      },
      "outputs": [
        {
          "output_type": "stream",
          "name": "stdout",
          "text": [
            "Computing the msd similarity matrix...\n",
            "Done computing similarity matrix.\n",
            "Computing the msd similarity matrix...\n",
            "Done computing similarity matrix.\n",
            "Computing the msd similarity matrix...\n",
            "Done computing similarity matrix.\n",
            "Computing the msd similarity matrix...\n",
            "Done computing similarity matrix.\n",
            "Computing the msd similarity matrix...\n",
            "Done computing similarity matrix.\n",
            "Evaluating RMSE, MAE of algorithm KNNBasic on 5 split(s).\n",
            "\n",
            "                  Fold 1  Fold 2  Fold 3  Fold 4  Fold 5  Mean    Std     \n",
            "RMSE (testset)    1.9587  1.9406  1.9437  1.9563  1.9329  1.9465  0.0097  \n",
            "MAE (testset)     1.5357  1.5272  1.5221  1.5333  1.5148  1.5266  0.0076  \n",
            "Fit time          2.55    2.26    2.17    2.22    2.12    2.27    0.15    \n",
            "Test time         2.16    1.62    1.67    1.58    1.67    1.74    0.21    \n",
            "CPU times: user 26.9 s, sys: 1.42 s, total: 28.4 s\n",
            "Wall time: 28.3 s\n"
          ]
        },
        {
          "output_type": "execute_result",
          "data": {
            "text/plain": [
              "{'fit_time': (2.553802251815796,\n",
              "  2.2631804943084717,\n",
              "  2.17229962348938,\n",
              "  2.2227072715759277,\n",
              "  2.1216893196105957),\n",
              " 'test_mae': array([1.53568448, 1.52721484, 1.52208477, 1.53332085, 1.51481764]),\n",
              " 'test_rmse': array([1.95873193, 1.94061303, 1.94369141, 1.95633579, 1.93290972]),\n",
              " 'test_time': (2.1592721939086914,\n",
              "  1.6186013221740723,\n",
              "  1.6732285022735596,\n",
              "  1.578540563583374,\n",
              "  1.665600061416626)}"
            ]
          },
          "metadata": {},
          "execution_count": 14
        }
      ],
      "source": [
        "data = Dataset.load_from_df(User_Book_Ratings_ex[['user_id', 'isbn', 'book_rating']], reader)\n",
        "KNNBasicmodel = KNNBasic()\n",
        "\n",
        "%time model_selection.cross_validate(KNNBasicmodel, data, measures=['RMSE','MAE'], cv=5, verbose=True)"
      ]
    },
    {
      "cell_type": "code",
      "execution_count": 15,
      "metadata": {
        "id": "9dkzZOZgFUOB",
        "colab": {
          "base_uri": "https://localhost:8080/",
          "height": 0
        },
        "outputId": "d420c178-7b55-4150-9c17-e09233d394d4"
      },
      "outputs": [
        {
          "output_type": "stream",
          "name": "stdout",
          "text": [
            "Computing the msd similarity matrix...\n",
            "Done computing similarity matrix.\n",
            "K = 1 - Precision: 1.0 , Recall: 0.0558141944311832 , F1 score: 0.10572730453061001\n",
            "Computing the msd similarity matrix...\n",
            "Done computing similarity matrix.\n",
            "K = 2 - Precision: 1.0 , Recall: 0.1116283888623664 , F1 score: 0.2008376000123678\n",
            "Computing the msd similarity matrix...\n",
            "Done computing similarity matrix.\n",
            "K = 3 - Precision: 1.0 , Recall: 0.16744258329355116 , F1 score: 0.2868536503459855\n",
            "Computing the msd similarity matrix...\n",
            "Done computing similarity matrix.\n",
            "K = 4 - Precision: 0.9998861739262407 , Recall: 0.22311344118740634 , F1 score: 0.364821120634061\n",
            "Computing the msd similarity matrix...\n",
            "Done computing similarity matrix.\n",
            "K = 5 - Precision: 0.9996281681590531 , Recall: 0.27855444078094754 , F1 score: 0.43569809731857934\n",
            "Computing the msd similarity matrix...\n",
            "Done computing similarity matrix.\n",
            "K = 6 - Precision: 0.9994005160115341 , Recall: 0.33377167521692325 , F1 score: 0.5004178554526498\n",
            "Computing the msd similarity matrix...\n",
            "Done computing similarity matrix.\n",
            "K = 7 - Precision: 0.9990716851317855 , Recall: 0.3886483440786239 , F1 score: 0.5596050325269689\n",
            "Computing the msd similarity matrix...\n",
            "Done computing similarity matrix.\n",
            "K = 8 - Precision: 0.9986353518490413 , Recall: 0.44287241559246354 , F1 score: 0.6136186853219457\n",
            "Computing the msd similarity matrix...\n",
            "Done computing similarity matrix.\n",
            "K = 9 - Precision: 0.9980725451510077 , Recall: 0.49545593149324185 , F1 score: 0.6621915420945946\n",
            "Computing the msd similarity matrix...\n",
            "Done computing similarity matrix.\n",
            "K = 10 - Precision: 0.9974907674406827 , Recall: 0.5445345687871568 , F1 score: 0.7044867450053716\n"
          ]
        },
        {
          "output_type": "execute_result",
          "data": {
            "text/plain": [
              "0.4434257633243134"
            ]
          },
          "metadata": {},
          "execution_count": 15
        }
      ],
      "source": [
        "k_max = 10\n",
        "metrics = get_precision_vs_recall(KNNBasicmodel, k_max, True)\n",
        "np.mean(metrics['f1_score'])"
      ]
    },
    {
      "cell_type": "code",
      "execution_count": 16,
      "metadata": {
        "id": "WaFIh8YfFUOB",
        "colab": {
          "base_uri": "https://localhost:8080/",
          "height": 0
        },
        "outputId": "1bcd3262-e446-4135-f1ad-404a729ed026"
      },
      "outputs": [
        {
          "output_type": "stream",
          "name": "stdout",
          "text": [
            "Computing the msd similarity matrix...\n",
            "Done computing similarity matrix.\n",
            "Computing the msd similarity matrix...\n",
            "Done computing similarity matrix.\n",
            "Computing the msd similarity matrix...\n",
            "Done computing similarity matrix.\n",
            "Computing the msd similarity matrix...\n",
            "Done computing similarity matrix.\n",
            "Computing the msd similarity matrix...\n",
            "Done computing similarity matrix.\n",
            "Evaluating RMSE, MAE of algorithm KNNWithMeans on 5 split(s).\n",
            "\n",
            "                  Fold 1  Fold 2  Fold 3  Fold 4  Fold 5  Mean    Std     \n",
            "RMSE (testset)    1.8018  1.8028  1.7995  1.7979  1.7867  1.7977  0.0058  \n",
            "MAE (testset)     1.3951  1.3950  1.3936  1.3913  1.3822  1.3915  0.0048  \n",
            "Fit time          2.24    2.58    2.35    2.34    2.34    2.37    0.11    \n",
            "Test time         1.67    2.12    1.63    1.68    1.64    1.75    0.19    \n",
            "CPU times: user 27.9 s, sys: 508 ms, total: 28.4 s\n",
            "Wall time: 28.3 s\n"
          ]
        },
        {
          "output_type": "execute_result",
          "data": {
            "text/plain": [
              "{'fit_time': (2.2382547855377197,\n",
              "  2.584491491317749,\n",
              "  2.3508167266845703,\n",
              "  2.3363006114959717,\n",
              "  2.343946933746338),\n",
              " 'test_mae': array([1.39512443, 1.39499211, 1.39363963, 1.39132508, 1.38221081]),\n",
              " 'test_rmse': array([1.80180157, 1.8027624 , 1.79954527, 1.79789857, 1.78665994]),\n",
              " 'test_time': (1.6724491119384766,\n",
              "  2.1204934120178223,\n",
              "  1.6290514469146729,\n",
              "  1.6759097576141357,\n",
              "  1.6406056880950928)}"
            ]
          },
          "metadata": {},
          "execution_count": 16
        }
      ],
      "source": [
        "data = Dataset.load_from_df(User_Book_Ratings_ex[['user_id', 'isbn', 'book_rating']], reader)\n",
        "KNNWithMeansmodel = KNNWithMeans()\n",
        "\n",
        "%time model_selection.cross_validate(KNNWithMeansmodel, data, measures=['RMSE','MAE'], cv=5, verbose=True)"
      ]
    },
    {
      "cell_type": "code",
      "execution_count": 17,
      "metadata": {
        "id": "XKutyxJJFUOC",
        "colab": {
          "base_uri": "https://localhost:8080/",
          "height": 0
        },
        "outputId": "115b2801-e5ea-4004-f2ed-b84b3a439be8"
      },
      "outputs": [
        {
          "output_type": "stream",
          "name": "stdout",
          "text": [
            "Computing the msd similarity matrix...\n",
            "Done computing similarity matrix.\n",
            "K = 1 - Precision: 1.0 , Recall: 0.0557610755967622 , F1 score: 0.10563199740100972\n",
            "Computing the msd similarity matrix...\n",
            "Done computing similarity matrix.\n",
            "K = 2 - Precision: 1.0 , Recall: 0.11139784589392698 , F1 score: 0.20046439050694165\n",
            "Computing the msd similarity matrix...\n",
            "Done computing similarity matrix.\n",
            "K = 3 - Precision: 1.0 , Recall: 0.16678232636527177 , F1 score: 0.28588421781263607\n",
            "Computing the msd similarity matrix...\n",
            "Done computing similarity matrix.\n",
            "K = 4 - Precision: 1.0 , Recall: 0.22189241975087412 , F1 score: 0.36319469073409055\n",
            "Computing the msd similarity matrix...\n",
            "Done computing similarity matrix.\n",
            "K = 5 - Precision: 0.9999696463803309 , Recall: 0.27676027864209213 , F1 score: 0.4335323744542044\n",
            "Computing the msd similarity matrix...\n",
            "Done computing similarity matrix.\n",
            "K = 6 - Precision: 0.999893762331158 , Recall: 0.3311963249486476 , F1 score: 0.49757885298343946\n",
            "Computing the msd similarity matrix...\n",
            "Done computing similarity matrix.\n",
            "K = 7 - Precision: 0.9998142647558341 , Recall: 0.38508257213650193 , F1 score: 0.5560140488079885\n",
            "Computing the msd similarity matrix...\n",
            "Done computing similarity matrix.\n",
            "K = 8 - Precision: 0.9997329604174345 , Recall: 0.43792602727380936 , F1 score: 0.6090583197248677\n",
            "Computing the msd similarity matrix...\n",
            "Done computing similarity matrix.\n",
            "K = 9 - Precision: 0.9994547189038002 , Recall: 0.48853384179334786 , F1 score: 0.6562785043129665\n",
            "Computing the msd similarity matrix...\n",
            "Done computing similarity matrix.\n",
            "K = 10 - Precision: 0.9989488252426476 , Recall: 0.5354894162341955 , F1 score: 0.6972278307690934\n"
          ]
        },
        {
          "output_type": "execute_result",
          "data": {
            "text/plain": [
              "0.4404865227507238"
            ]
          },
          "metadata": {},
          "execution_count": 17
        }
      ],
      "source": [
        "k_max = 10\n",
        "metrics = get_precision_vs_recall(KNNWithMeansmodel, k_max, True)\n",
        "np.mean(metrics['f1_score'])"
      ]
    },
    {
      "cell_type": "code",
      "execution_count": 18,
      "metadata": {
        "id": "3hGtQctnFUOC",
        "colab": {
          "base_uri": "https://localhost:8080/",
          "height": 0
        },
        "outputId": "132534a6-1627-4090-997c-1ee13d228b3d"
      },
      "outputs": [
        {
          "output_type": "stream",
          "name": "stdout",
          "text": [
            "Computing the msd similarity matrix...\n",
            "Done computing similarity matrix.\n",
            "Computing the msd similarity matrix...\n",
            "Done computing similarity matrix.\n",
            "Computing the msd similarity matrix...\n",
            "Done computing similarity matrix.\n",
            "Computing the msd similarity matrix...\n",
            "Done computing similarity matrix.\n",
            "Computing the msd similarity matrix...\n",
            "Done computing similarity matrix.\n",
            "Evaluating RMSE, MAE of algorithm KNNWithZScore on 5 split(s).\n",
            "\n",
            "                  Fold 1  Fold 2  Fold 3  Fold 4  Fold 5  Mean    Std     \n",
            "RMSE (testset)    1.7980  1.7974  1.7868  1.7961  1.7971  1.7951  0.0042  \n",
            "MAE (testset)     1.3805  1.3810  1.3760  1.3807  1.3839  1.3804  0.0025  \n",
            "Fit time          2.74    3.62    3.00    3.22    2.80    3.07    0.32    \n",
            "Test time         2.62    2.36    1.82    1.85    1.84    2.10    0.33    \n",
            "CPU times: user 32.6 s, sys: 808 ms, total: 33.4 s\n",
            "Wall time: 33.5 s\n"
          ]
        },
        {
          "output_type": "execute_result",
          "data": {
            "text/plain": [
              "{'fit_time': (2.736492872238159,\n",
              "  3.619499683380127,\n",
              "  2.9959449768066406,\n",
              "  3.217536211013794,\n",
              "  2.8025307655334473),\n",
              " 'test_mae': array([1.38047331, 1.38104378, 1.37600641, 1.38074127, 1.3838764 ]),\n",
              " 'test_rmse': array([1.7979807 , 1.79737705, 1.78679414, 1.79610761, 1.79707373]),\n",
              " 'test_time': (2.620856761932373,\n",
              "  2.362548351287842,\n",
              "  1.8189725875854492,\n",
              "  1.850837230682373,\n",
              "  1.835280418395996)}"
            ]
          },
          "metadata": {},
          "execution_count": 18
        }
      ],
      "source": [
        "data = Dataset.load_from_df(User_Book_Ratings_ex[['user_id', 'isbn', 'book_rating']], reader)\n",
        "KNNWithZScoremodel = KNNWithZScore()\n",
        "\n",
        "%time model_selection.cross_validate(KNNWithZScoremodel, data, measures=['RMSE','MAE'], cv=5, verbose=True)"
      ]
    },
    {
      "cell_type": "code",
      "execution_count": 19,
      "metadata": {
        "id": "Zs7HpGr5FUOD",
        "colab": {
          "base_uri": "https://localhost:8080/",
          "height": 0
        },
        "outputId": "0de92190-6a1d-4354-9d12-6fea3e6d87d6"
      },
      "outputs": [
        {
          "output_type": "stream",
          "name": "stdout",
          "text": [
            "Computing the msd similarity matrix...\n",
            "Done computing similarity matrix.\n",
            "K = 1 - Precision: 1.0 , Recall: 0.0557610755967622 , F1 score: 0.10563199740100972\n",
            "Computing the msd similarity matrix...\n",
            "Done computing similarity matrix.\n",
            "K = 2 - Precision: 1.0 , Recall: 0.11137399662132981 , F1 score: 0.2004257737897703\n",
            "Computing the msd similarity matrix...\n",
            "Done computing similarity matrix.\n",
            "K = 3 - Precision: 1.0 , Recall: 0.16677173216360153 , F1 score: 0.2858686537671745\n",
            "Computing the msd similarity matrix...\n",
            "Done computing similarity matrix.\n",
            "K = 4 - Precision: 1.0 , Recall: 0.2218711656470582 , F1 score: 0.3631662189680421\n",
            "Computing the msd similarity matrix...\n",
            "Done computing similarity matrix.\n",
            "K = 5 - Precision: 1.0 , Recall: 0.27674753717199757 , F1 score: 0.43351959430443826\n",
            "Computing the msd similarity matrix...\n",
            "Done computing similarity matrix.\n",
            "K = 6 - Precision: 0.9999494106338848 , Recall: 0.3310665599816539 , F1 score: 0.49743927772879526\n",
            "Computing the msd similarity matrix...\n",
            "Done computing similarity matrix.\n",
            "K = 7 - Precision: 0.9998446183755032 , Recall: 0.3847135260378307 , F1 score: 0.5556339402245543\n",
            "Computing the msd similarity matrix...\n",
            "Done computing similarity matrix.\n",
            "K = 8 - Precision: 0.9997795749047836 , Recall: 0.43720501067215817 , F1 score: 0.6083692812063879\n",
            "Computing the msd similarity matrix...\n",
            "Done computing similarity matrix.\n",
            "K = 9 - Precision: 0.99965520937975 , Recall: 0.4876773339649928 , F1 score: 0.6555483366190763\n",
            "Computing the msd similarity matrix...\n",
            "Done computing similarity matrix.\n",
            "K = 10 - Precision: 0.9991999050847126 , Recall: 0.5345184458864329 , F1 score: 0.6964652669866893\n"
          ]
        },
        {
          "output_type": "execute_result",
          "data": {
            "text/plain": [
              "0.4402068340995938"
            ]
          },
          "metadata": {},
          "execution_count": 19
        }
      ],
      "source": [
        "k_max = 10\n",
        "metrics = get_precision_vs_recall(KNNWithZScoremodel, k_max, True)\n",
        "np.mean(metrics['f1_score'])"
      ]
    },
    {
      "cell_type": "markdown",
      "metadata": {
        "id": "-WNSDFn_FUOD"
      },
      "source": [
        "# Comparison of different Algorithms on RMSE"
      ]
    },
    {
      "cell_type": "code",
      "execution_count": 20,
      "metadata": {
        "id": "jC-Cz6xeFUOD",
        "colab": {
          "base_uri": "https://localhost:8080/",
          "height": 465
        },
        "outputId": "516e63a9-f10a-4551-e881-66204f506d40"
      },
      "outputs": [
        {
          "output_type": "display_data",
          "data": {
            "text/plain": [
              "<Figure size 1296x504 with 1 Axes>"
            ],
            "image/png": "[encoded data removed]"
          },
          "metadata": {
            "needs_background": "light"
          }
        }
      ],
      "source": [
        "import matplotlib.pyplot as plt\n",
        "Algorithms = ['Co-clustering' ,'SVD','NMF','KNNBasic','KNNwithMeans','KNNwithZScore']\n",
        "#mannullt recode...since re-running takes too much time\n",
        "mae_results =[1.4286,1.2041,2.0782,1.5268,1.3931,1.3801]\n",
        "rmse_results =[1.8393,1.5726,2.4767,1.9473,1.7994,1.7967]\n",
        "f1_results =[0.4289,0.4428,0.4202,0.4434,0.4404,0.4402]\n",
        "plt.figure(figsize=(18,7))\n",
        "plt.title('Comparison of Algorithms on RMSE, MAE and F1-score', loc='center', fontsize=20)\n",
        "plt.plot(Algorithms, rmse_results, label='RMSE', marker='o')\n",
        "plt.plot(Algorithms, mae_results, label='MAE', marker='o')\n",
        "plt.plot(Algorithms, f1_results, label='F1-measure', marker='o')\n",
        "plt.xlabel('Algorithms', fontsize=16)\n",
        "plt.ylabel('Error', fontsize=16)\n",
        "plt.grid(ls='dashed')\n",
        "plt.legend()\n",
        "plt.show()\n"
      ]
    }
  ],
  "metadata": {
    "colab": {
      "name": "recommendation_system_final.ipynb",
      "provenance": []
    },
    "kernelspec": {
      "display_name": "Python 3",
      "language": "python",
      "name": "python3"
    },
    "language_info": {
      "codemirror_mode": {
        "name": "ipython",
        "version": 3
      },
      "file_extension": ".py",
      "mimetype": "text/x-python",
      "name": "python",
      "nbconvert_exporter": "python",
      "pygments_lexer": "ipython3",
      "version": "3.8.8"
    }
  },
  "nbformat": 4,
  "nbformat_minor": 0
}