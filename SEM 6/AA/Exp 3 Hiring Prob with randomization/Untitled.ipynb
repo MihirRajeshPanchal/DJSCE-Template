{
 "cells": [
  {
   "cell_type": "code",
   "execution_count": 2,
   "id": "edd175e1",
   "metadata": {},
   "outputs": [],
   "source": [
    "# Implement Hiring Problem with randomization [Reduce the cost of hiring]\n",
    "# Take n set and calculate probablility"
   ]
  },
  {
   "cell_type": "code",
   "execution_count": null,
   "id": "ce59a75e",
   "metadata": {},
   "outputs": [],
   "source": [
    "# Write Birthday Paradox ke probablility ka code."
   ]
  }
 ],
 "metadata": {
  "kernelspec": {
   "display_name": "Python 3 (ipykernel)",
   "language": "python",
   "name": "python3"
  },
  "language_info": {
   "codemirror_mode": {
    "name": "ipython",
    "version": 3
   },
   "file_extension": ".py",
   "mimetype": "text/x-python",
   "name": "python",
   "nbconvert_exporter": "python",
   "pygments_lexer": "ipython3",
   "version": "3.9.8"
  }
 },
 "nbformat": 4,
 "nbformat_minor": 5
}
