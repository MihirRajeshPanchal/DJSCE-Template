{
 "cells": [
  {
   "cell_type": "code",
   "execution_count": 1,
   "metadata": {},
   "outputs": [],
   "source": [
    "import pandas as pd\n",
    "import numpy as np\n",
    "import matplotlib.pyplot as plt\n",
    "import seaborn as sns\n",
    "%matplotlib inline"
   ]
  },
  {
   "cell_type": "markdown",
   "metadata": {},
   "source": [
    "### Here Final is the preprocessed dataset. I already cleaned the reviews and stored them in the CleanedText column ."
   ]
  },
  {
   "cell_type": "code",
   "execution_count": 2,
   "metadata": {},
   "outputs": [
    {
     "data": {
      "text/html": [
       "<div>\n",
       "<style scoped>\n",
       "    .dataframe tbody tr th:only-of-type {\n",
       "        vertical-align: middle;\n",
       "    }\n",
       "\n",
       "    .dataframe tbody tr th {\n",
       "        vertical-align: top;\n",
       "    }\n",
       "\n",
       "    .dataframe thead th {\n",
       "        text-align: right;\n",
       "    }\n",
       "</style>\n",
       "<table border=\"1\" class=\"dataframe\">\n",
       "  <thead>\n",
       "    <tr style=\"text-align: right;\">\n",
       "      <th></th>\n",
       "      <th>Unnamed: 0</th>\n",
       "      <th>Id</th>\n",
       "      <th>ProductId</th>\n",
       "      <th>UserId</th>\n",
       "      <th>ProfileName</th>\n",
       "      <th>HelpfulnessNumerator</th>\n",
       "      <th>HelpfulnessDenominator</th>\n",
       "      <th>Score</th>\n",
       "      <th>Time</th>\n",
       "      <th>Summary</th>\n",
       "      <th>Text</th>\n",
       "      <th>CleanedText</th>\n",
       "    </tr>\n",
       "  </thead>\n",
       "  <tbody>\n",
       "    <tr>\n",
       "      <th>0</th>\n",
       "      <td>150528</td>\n",
       "      <td>150529</td>\n",
       "      <td>0006641040</td>\n",
       "      <td>A25ACLV5KPB4W</td>\n",
       "      <td>Matt Hetling \"Matt\"</td>\n",
       "      <td>0</td>\n",
       "      <td>1</td>\n",
       "      <td>1</td>\n",
       "      <td>1108425600</td>\n",
       "      <td>Nice cadence, catchy rhymes</td>\n",
       "      <td>In June&lt;br /&gt;I saw a charming group&lt;br /&gt;of ro...</td>\n",
       "      <td>june saw charm group rose begin droop pep chic...</td>\n",
       "    </tr>\n",
       "  </tbody>\n",
       "</table>\n",
       "</div>"
      ],
      "text/plain": [
       "   Unnamed: 0      Id   ProductId         UserId          ProfileName  \\\n",
       "0      150528  150529  0006641040  A25ACLV5KPB4W  Matt Hetling \"Matt\"   \n",
       "\n",
       "   HelpfulnessNumerator  HelpfulnessDenominator  Score        Time  \\\n",
       "0                     0                       1      1  1108425600   \n",
       "\n",
       "                       Summary  \\\n",
       "0  Nice cadence, catchy rhymes   \n",
       "\n",
       "                                                Text  \\\n",
       "0  In June<br />I saw a charming group<br />of ro...   \n",
       "\n",
       "                                         CleanedText  \n",
       "0  june saw charm group rose begin droop pep chic...  "
      ]
     },
     "execution_count": 2,
     "metadata": {},
     "output_type": "execute_result"
    }
   ],
   "source": [
    "final=pd.read_csv('final')\n",
    "final.head(1)"
   ]
  },
  {
   "cell_type": "markdown",
   "metadata": {},
   "source": [
    "### Here I am taking only 2000 positive and negative reviews because of my laptop. If you have powerful pc skip this code."
   ]
  },
  {
   "cell_type": "code",
   "execution_count": 17,
   "metadata": {},
   "outputs": [
    {
     "data": {
      "text/plain": [
       "2000"
      ]
     },
     "execution_count": 17,
     "metadata": {},
     "output_type": "execute_result"
    }
   ],
   "source": [
    "p=final[final[\"Score\"]==1].sample(n=1000)\n",
    "n=final[final[\"Score\"]==0].sample(n=1000)\n",
    "df=pd.concat([p,n])\n",
    "len(df)"
   ]
  },
  {
   "cell_type": "markdown",
   "metadata": {},
   "source": [
    "### Splittibg the data."
   ]
  },
  {
   "cell_type": "code",
   "execution_count": 22,
   "metadata": {},
   "outputs": [],
   "source": [
    "from sklearn.model_selection import train_test_split\n",
    "X=df.CleanedText\n",
    "y=df.Score\n",
    "X_train, X_test, y_train, y_test = train_test_split(X, y, test_size=0.33, random_state=42)"
   ]
  },
  {
   "cell_type": "markdown",
   "metadata": {},
   "source": [
    "### Converting reviews into vectors"
   ]
  },
  {
   "cell_type": "code",
   "execution_count": 19,
   "metadata": {},
   "outputs": [],
   "source": [
    "from sklearn.feature_extraction.text import CountVectorizer\n",
    "cv=CountVectorizer()\n",
    "df_cv=cv.fit_transform(X_train)"
   ]
  },
  {
   "cell_type": "markdown",
   "metadata": {},
   "source": [
    "### Training our KNN model"
   ]
  },
  {
   "cell_type": "code",
   "execution_count": 20,
   "metadata": {},
   "outputs": [
    {
     "data": {
      "text/plain": [
       "KNeighborsClassifier(algorithm='auto', leaf_size=30, metric='minkowski',\n",
       "           metric_params=None, n_jobs=1, n_neighbors=7, p=2,\n",
       "           weights='uniform')"
      ]
     },
     "execution_count": 20,
     "metadata": {},
     "output_type": "execute_result"
    }
   ],
   "source": [
    "from sklearn.neighbors import KNeighborsClassifier\n",
    "knn=KNeighborsClassifier(7)\n",
    "knn.fit(df_cv,y_train)\n"
   ]
  },
  {
   "cell_type": "markdown",
   "metadata": {},
   "source": [
    "### Predicting the result"
   ]
  },
  {
   "cell_type": "code",
   "execution_count": 16,
   "metadata": {},
   "outputs": [
    {
     "name": "stdout",
     "output_type": "stream",
     "text": [
      "[[150 185]\n",
      " [ 80 245]]\n",
      "\n",
      "\n",
      "             precision    recall  f1-score   support\n",
      "\n",
      "          0       0.65      0.45      0.53       335\n",
      "          1       0.57      0.75      0.65       325\n",
      "\n",
      "avg / total       0.61      0.60      0.59       660\n",
      "\n"
     ]
    }
   ],
   "source": [
    "from sklearn.metrics import classification_report,confusion_matrix\n",
    "X_test_bow=cv.transform(X_test)\n",
    "p=knn.predict(X_test_bow)\n",
    "print(confusion_matrix(y_test,p))\n",
    "print('\\n')\n",
    "print(classification_report(y_test,p))"
   ]
  },
  {
   "cell_type": "markdown",
   "metadata": {},
   "source": [
    "### Doing the same thing using tfidf to convert reviews to vectors to see if there is any improvement in accuracy."
   ]
  },
  {
   "cell_type": "code",
   "execution_count": 23,
   "metadata": {},
   "outputs": [
    {
     "data": {
      "text/plain": [
       "KNeighborsClassifier(algorithm='auto', leaf_size=30, metric='minkowski',\n",
       "           metric_params=None, n_jobs=1, n_neighbors=7, p=2,\n",
       "           weights='uniform')"
      ]
     },
     "execution_count": 23,
     "metadata": {},
     "output_type": "execute_result"
    }
   ],
   "source": [
    "p=final[final[\"Score\"]==1].sample(n=1000)\n",
    "n=final[final[\"Score\"]==0].sample(n=1000)\n",
    "df=pd.concat([p,n])\n",
    "\n",
    "X_train, X_test, y_train, y_test = train_test_split(X, y, test_size=0.33, random_state=42)\n",
    "\n",
    "\n",
    "from sklearn.feature_extraction.text import TfidfTransformer,TfidfVectorizer\n",
    "vect=TfidfVectorizer(ngram_range=(1,2))\n",
    "tr=TfidfTransformer()\n",
    "df_vect=vect.fit_transform(X_train)\n",
    "df_tr=tr.fit_transform(df_vect)\n",
    "knn.fit(df_tr,y_train)"
   ]
  },
  {
   "cell_type": "code",
   "execution_count": 25,
   "metadata": {},
   "outputs": [
    {
     "name": "stdout",
     "output_type": "stream",
     "text": [
      "[[231 104]\n",
      " [114 211]]\n",
      "\n",
      "\n",
      "             precision    recall  f1-score   support\n",
      "\n",
      "          0       0.67      0.69      0.68       335\n",
      "          1       0.67      0.65      0.66       325\n",
      "\n",
      "avg / total       0.67      0.67      0.67       660\n",
      "\n"
     ]
    }
   ],
   "source": [
    "X_test_vt=vect.transform(X_test)\n",
    "X_test_tf=tr.transform(X_test_vt)\n",
    "p=knn.predict(X_test_tf)\n",
    "print(confusion_matrix(y_test,p))\n",
    "print('\\n')\n",
    "print(classification_report(y_test,p))"
   ]
  },
  {
   "cell_type": "markdown",
   "metadata": {},
   "source": [
    "## Implementation of Kd Tree(you can skip this)"
   ]
  },
  {
   "cell_type": "code",
   "execution_count": 27,
   "metadata": {},
   "outputs": [
    {
     "name": "stdout",
     "output_type": "stream",
     "text": [
      "[[   0 1155  584]]\n",
      "[[0.         5.38516481 5.47722558]]\n"
     ]
    }
   ],
   "source": [
    "p=final[final[\"Score\"]==1].sample(n=1000)\n",
    "n=final[final[\"Score\"]==0].sample(n=1000)\n",
    "df=pd.concat([p,n])\n",
    "\n",
    "X_train, X_test, y_train, y_test = train_test_split(X, y, test_size=0.33, random_state=42)\n",
    "\n",
    "from sklearn.feature_extraction.text import CountVectorizer\n",
    "cv=CountVectorizer(min_df=10, max_features=500)\n",
    "df_cv=cv.fit_transform(X_train).toarray()\n",
    "\n",
    "from sklearn.neighbors import KDTree\n",
    "kd=KDTree(df_cv,leaf_size=4)\n",
    "dist, ind = kd.query(df_cv[:1], k=3)  \n",
    "print(ind)\n",
    "print(dist)"
   ]
  },
  {
   "cell_type": "code",
   "execution_count": 30,
   "metadata": {},
   "outputs": [
    {
     "name": "stdout",
     "output_type": "stream",
     "text": [
      "[[   0  584 1155]]\n",
      "[[0.         0.79937449 0.89802852]]\n"
     ]
    }
   ],
   "source": [
    "p=final[final[\"Score\"]==1].sample(n=1000)\n",
    "n=final[final[\"Score\"]==0].sample(n=1000)\n",
    "df=pd.concat([p,n])\n",
    "\n",
    "X_train, X_test, y_train, y_test = train_test_split(X, y, test_size=0.33, random_state=42)\n",
    "\n",
    "from sklearn.feature_extraction.text import TfidfTransformer,TfidfVectorizer\n",
    "vect = TfidfVectorizer(min_df=10, max_features=500)\n",
    "tr=TfidfTransformer()\n",
    "\n",
    "v=vect.fit_transform(X_train)\n",
    "t=tr.fit_transform(v).toarray()\n",
    "\n",
    "\n",
    "from sklearn.neighbors import KDTree\n",
    "kd=KDTree(t,leaf_size=4)\n",
    "dist, ind = kd.query(t[:1], k=3)  \n",
    "print(ind)\n",
    "print(dist)"
   ]
  },
  {
   "cell_type": "markdown",
   "metadata": {},
   "source": [
    "## Hyperparameter tuning.(we have to find value of k that gives us best results)"
   ]
  },
  {
   "cell_type": "markdown",
   "metadata": {},
   "source": [
    "## Auc"
   ]
  },
  {
   "cell_type": "code",
   "execution_count": 3,
   "metadata": {},
   "outputs": [],
   "source": [
    "p=final[final[\"Score\"]==1].sample(n=1000)\n",
    "n=final[final[\"Score\"]==0].sample(n=1000)\n",
    "df=pd.concat([p,n])\n",
    "X=df.CleanedText\n",
    "y=df.Score\n",
    "from sklearn.model_selection import train_test_split\n",
    "X_train, X_test, y_train, y_test = train_test_split(X, y, test_size=0.33, random_state=42)\n",
    "X_tr, X_cv, y_tr, y_cv = train_test_split(X_train, y_train, test_size=0.33, random_state=42)\n",
    "\n"
   ]
  },
  {
   "cell_type": "markdown",
   "metadata": {},
   "source": [
    "## roc curve for train and CV"
   ]
  },
  {
   "cell_type": "code",
   "execution_count": 4,
   "metadata": {},
   "outputs": [
    {
     "data": {
      "image/png": "[encoded data removed]",
      "text/plain": [
       "<Figure size 432x288 with 1 Axes>"
      ]
     },
     "metadata": {},
     "output_type": "display_data"
    }
   ],
   "source": [
    "from sklearn import metrics \n",
    "import matplotlib.pyplot as plt\n",
    "from sklearn.feature_extraction.text import CountVectorizer\n",
    "cv=CountVectorizer()\n",
    "from sklearn.neighbors import KNeighborsClassifier\n",
    "df_cv=cv.fit_transform(X_tr)\n",
    "X_test_cv=cv.transform(X_cv)\n",
    "train_result=[]\n",
    "test_result=[]\n",
    "neighbour=[]\n",
    "# calculate the fpr and tpr for all thresholds of the classification\n",
    "for i in range(1,49,2):\n",
    "    knn=KNeighborsClassifier(i)\n",
    "    knn.fit(df_cv,y_tr)\n",
    "    pre=knn.predict(df_cv)\n",
    "    fpr,tpr,threshold=metrics.roc_curve(y_tr,pre)\n",
    "    roc_auc=metrics.auc(fpr,tpr)\n",
    "    train_result.append(roc_auc)\n",
    "    \n",
    "    \n",
    "    probs=knn.predict(X_test_cv)\n",
    "    fpr, tpr, threshold = metrics.roc_curve(y_cv, probs)\n",
    "    roc_auc = metrics.auc(fpr, tpr)\n",
    "    test_result.append(roc_auc)\n",
    "    \n",
    "    neighbour.append(i)\n",
    "from matplotlib.legend_handler import HandlerLine2D\n",
    "\n",
    "line1, = plt.plot(neighbour, train_result, 'b', label=\"Train AUC\")\n",
    "line2, = plt.plot(neighbour, test_result, 'r', label=\"CV AUC\")\n",
    "\n",
    "plt.legend(handler_map={line1: HandlerLine2D(numpoints=2)})\n",
    "\n",
    "plt.ylabel('AUC score')\n",
    "plt.xlabel('Hyper parameter')\n",
    "plt.show()\n"
   ]
  },
  {
   "cell_type": "markdown",
   "metadata": {},
   "source": [
    "### Best K=30(from plot)."
   ]
  },
  {
   "cell_type": "markdown",
   "metadata": {},
   "source": [
    "## Plotting roc curve of train and test data"
   ]
  },
  {
   "cell_type": "code",
   "execution_count": 5,
   "metadata": {},
   "outputs": [
    {
     "data": {
      "image/png": "[encoded data removed]",
      "text/plain": [
       "<Figure size 432x288 with 1 Axes>"
      ]
     },
     "metadata": {},
     "output_type": "display_data"
    }
   ],
   "source": [
    "knn=KNeighborsClassifier(30)\n",
    "X_t=cv.fit_transform(X_train)\n",
    "knn.fit(X_t,y_train)\n",
    "pre=knn.predict(X_t)\n",
    "\n",
    "f,t,threshold=metrics.roc_curve(y_train,pre)\n",
    "roc_a=metrics.auc(f,t)\n",
    "\n",
    "X_te=cv.transform(X_test)\n",
    "p=knn.predict(X_te)\n",
    "\n",
    "fpr,tpr,threshold=metrics.roc_curve(y_test,p)\n",
    "roc_auc=metrics.auc(fpr,tpr)\n",
    "\n",
    "import matplotlib.pyplot as plt\n",
    "plt.title('Receiver Operating Characteristic')\n",
    "plt.plot(fpr, tpr, 'b', label = 'Test AUC = %0.2f' % roc_auc)\n",
    "plt.plot(f, t, 'r', label = 'Train AUC = %0.2f' % roc_a)\n",
    "plt.legend(loc = 'lower right')\n",
    "plt.plot([0, 1], [0, 1],'r--')\n",
    "plt.xlim([0, 1])\n",
    "plt.ylim([0, 1])\n",
    "plt.ylabel('True Positive Rate')\n",
    "plt.xlabel('False Positive Rate')\n",
    "plt.show()"
   ]
  },
  {
   "cell_type": "markdown",
   "metadata": {},
   "source": [
    "## Confusion matrix"
   ]
  },
  {
   "cell_type": "code",
   "execution_count": 6,
   "metadata": {},
   "outputs": [
    {
     "name": "stdout",
     "output_type": "stream",
     "text": [
      "[[249  86]\n",
      " [134 191]]\n",
      "             precision    recall  f1-score   support\n",
      "\n",
      "          0       0.65      0.74      0.69       335\n",
      "          1       0.69      0.59      0.63       325\n",
      "\n",
      "avg / total       0.67      0.67      0.66       660\n",
      "\n"
     ]
    }
   ],
   "source": [
    "from sklearn.metrics import confusion_matrix,classification_report\n",
    "print(confusion_matrix(y_test,p))\n",
    "print(classification_report(y_test,p))"
   ]
  },
  {
   "cell_type": "code",
   "execution_count": null,
   "metadata": {},
   "outputs": [],
   "source": []
  }
 ],
 "metadata": {
  "kernelspec": {
   "display_name": "Python 3",
   "language": "python",
   "name": "python3"
  },
  "language_info": {
   "codemirror_mode": {
    "name": "ipython",
    "version": 3
   },
   "file_extension": ".py",
   "mimetype": "text/x-python",
   "name": "python",
   "nbconvert_exporter": "python",
   "pygments_lexer": "ipython3",
   "version": "3.6.4"
  }
 },
 "nbformat": 4,
 "nbformat_minor": 2
}