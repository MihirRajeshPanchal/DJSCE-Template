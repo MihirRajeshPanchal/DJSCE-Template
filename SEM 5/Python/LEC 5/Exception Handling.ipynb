{
 "cells": [
  {
   "cell_type": "code",
   "execution_count": 11,
   "id": "de9a774b",
   "metadata": {},
   "outputs": [
    {
     "name": "stdout",
     "output_type": "stream",
     "text": [
      "Error: can't find file or read data\n"
     ]
    }
   ],
   "source": [
    "try:\n",
    "   fh = open(\"testfile\", \"r\")\n",
    "   fh.write(\"This is my test file for exception handling!!\")\n",
    "except IOError:\n",
    "   print(\"Error: can\\'t find file or read data\")\n",
    "else:\n",
    "   print(\"Written content in the file successfully\")\n",
    "   fh.close()"
   ]
  },
  {
   "cell_type": "code",
   "execution_count": 12,
   "id": "d32ada50",
   "metadata": {},
   "outputs": [
    {
     "name": "stdout",
     "output_type": "stream",
     "text": [
      "Error: can't find file or read data\n"
     ]
    }
   ],
   "source": [
    "try:\n",
    "   fh = open(\"testfile\", \"w\")\n",
    "   fh.write(\"This is my test file for exception handling!!\")\n",
    "finally:\n",
    "   print(\"Error: can\\'t find file or read data\")"
   ]
  },
  {
   "cell_type": "code",
   "execution_count": 13,
   "id": "23c38eb5",
   "metadata": {},
   "outputs": [
    {
     "name": "stdout",
     "output_type": "stream",
     "text": [
      "ZeroDivisionError Occurred and Handled\n"
     ]
    }
   ],
   "source": [
    "# Program to handle multiple errors with one\n",
    "# except statement\n",
    "def fun(a):\n",
    "    if a < 4:\n",
    "\n",
    "        # throws ZeroDivisionError for a = 3\n",
    "        b = a/(a-3)\n",
    "\n",
    "    # throws NameError if a >= 4\n",
    "    print(\"Value of b = \", b)\n",
    "    \n",
    "try:\n",
    "    fun(3)\n",
    "    fun(5)\n",
    "\n",
    "# note that braces () are necessary here for\n",
    "# multiple exceptions\n",
    "except ZeroDivisionError:\n",
    "    print(\"ZeroDivisionError Occurred and Handled\")\n",
    "except NameError:\n",
    "    print(\"NameError Occurred and Handled\")\n"
   ]
  },
  {
   "cell_type": "code",
   "execution_count": 14,
   "id": "5f00aa83",
   "metadata": {},
   "outputs": [
    {
     "name": "stdout",
     "output_type": "stream",
     "text": [
      "-5.0\n",
      "a/b result in 0\n"
     ]
    }
   ],
   "source": [
    "# Program to depict else clause with try-except\n",
    "# Python 3\n",
    "# Function which returns a/b\n",
    "def AbyB(a , b):\n",
    "    try:\n",
    "        c = ((a+b) / (a-b))\n",
    "    except ZeroDivisionError:\n",
    "        print (\"a/b result in 0\")\n",
    "    else:\n",
    "        print (c)\n",
    "\n",
    "# Driver program to test above function\n",
    "AbyB(2.0, 3.0)\n",
    "AbyB(3.0, 3.0)\n"
   ]
  },
  {
   "cell_type": "code",
   "execution_count": 15,
   "id": "f5fcfb04",
   "metadata": {},
   "outputs": [
    {
     "name": "stdout",
     "output_type": "stream",
     "text": [
      "Can't divide by zero\n",
      "This is always executed\n"
     ]
    }
   ],
   "source": [
    "# Python program to demonstrate finally\n",
    "\n",
    "# No exception Exception raised in try block\n",
    "try:\n",
    "    k = 5//0 # raises divide by zero exception.\n",
    "    print(k)\n",
    "\n",
    "# handles zerodivision exception\n",
    "except ZeroDivisionError:\n",
    "    print(\"Can't divide by zero\")\n",
    "\n",
    "finally:\n",
    "    # this block is always executed\n",
    "    # regardless of exception generation.\n",
    "    print('This is always executed')\n"
   ]
  },
  {
   "cell_type": "code",
   "execution_count": 16,
   "id": "0b1cab7b",
   "metadata": {},
   "outputs": [
    {
     "name": "stdout",
     "output_type": "stream",
     "text": [
      "An exception\n"
     ]
    },
    {
     "ename": "NameError",
     "evalue": "Hi there",
     "output_type": "error",
     "traceback": [
      "\u001b[1;31m---------------------------------------------------------------------------\u001b[0m",
      "\u001b[1;31mNameError\u001b[0m                                 Traceback (most recent call last)",
      "\u001b[1;32m~\\AppData\\Local\\Temp/ipykernel_286296/2348914011.py\u001b[0m in \u001b[0;36m<module>\u001b[1;34m\u001b[0m\n\u001b[0;32m      2\u001b[0m \u001b[1;33m\u001b[0m\u001b[0m\n\u001b[0;32m      3\u001b[0m \u001b[1;32mtry\u001b[0m\u001b[1;33m:\u001b[0m\u001b[1;33m\u001b[0m\u001b[1;33m\u001b[0m\u001b[0m\n\u001b[1;32m----> 4\u001b[1;33m     \u001b[1;32mraise\u001b[0m \u001b[0mNameError\u001b[0m\u001b[1;33m(\u001b[0m\u001b[1;34m\"Hi there\"\u001b[0m\u001b[1;33m)\u001b[0m \u001b[1;31m# Raise Error\u001b[0m\u001b[1;33m\u001b[0m\u001b[1;33m\u001b[0m\u001b[0m\n\u001b[0m\u001b[0;32m      5\u001b[0m \u001b[1;32mexcept\u001b[0m \u001b[0mNameError\u001b[0m\u001b[1;33m:\u001b[0m\u001b[1;33m\u001b[0m\u001b[1;33m\u001b[0m\u001b[0m\n\u001b[0;32m      6\u001b[0m     \u001b[0mprint\u001b[0m \u001b[1;33m(\u001b[0m\u001b[1;34m\"An exception\"\u001b[0m\u001b[1;33m)\u001b[0m\u001b[1;33m\u001b[0m\u001b[1;33m\u001b[0m\u001b[0m\n",
      "\u001b[1;31mNameError\u001b[0m: Hi there"
     ]
    }
   ],
   "source": [
    "# Program to depict Raising Exception\n",
    "\n",
    "try:\n",
    "    raise NameError(\"Hi there\") # Raise Error\n",
    "except NameError:\n",
    "    print (\"An exception\")\n",
    "    raise # To determine whether the exception was raised or not\n"
   ]
  },
  {
   "cell_type": "code",
   "execution_count": null,
   "id": "3a2a6e16",
   "metadata": {},
   "outputs": [],
   "source": []
  },
  {
   "cell_type": "code",
   "execution_count": null,
   "id": "5c6192fd",
   "metadata": {},
   "outputs": [],
   "source": []
  }
 ],
 "metadata": {
  "kernelspec": {
   "display_name": "Python 3 (ipykernel)",
   "language": "python",
   "name": "python3"
  },
  "language_info": {
   "codemirror_mode": {
    "name": "ipython",
    "version": 3
   },
   "file_extension": ".py",
   "mimetype": "text/x-python",
   "name": "python",
   "nbconvert_exporter": "python",
   "pygments_lexer": "ipython3",
   "version": "3.9.2"
  }
 },
 "nbformat": 4,
 "nbformat_minor": 5
}
