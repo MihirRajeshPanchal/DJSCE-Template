{
  "nbformat": 4,
  "nbformat_minor": 0,
  "metadata": {
    "kernelspec": {
      "display_name": "Python 3",
      "language": "python",
      "name": "python3"
    },
    "language_info": {
      "codemirror_mode": {
        "name": "ipython",
        "version": 3
      },
      "file_extension": ".py",
      "mimetype": "text/x-python",
      "name": "python",
      "nbconvert_exporter": "python",
      "pygments_lexer": "ipython3",
      "version": "3.7.6"
    },
    "colab": {
      "name": "Python Mail System",
      "provenance": []
    }
  },
  "cells": [
    {
      "cell_type": "code",
      "metadata": {
        "id": "QAAmr3PN0Bbo"
      },
      "source": [
        "from email.mime.multipart import MIMEMultipart\n",
        "from email.mime.text import MIMEText\n",
        "from email.mime.image import MIMEImage\n",
        "from email.mime.base import MIMEBase\n",
        "from email import encoders\n",
        "\n",
        "import smtplib"
      ],
      "execution_count": 12,
      "outputs": []
    },
    {
      "cell_type": "code",
      "metadata": {
        "id": "whxNjIfk0Bbz"
      },
      "source": [
        "def sendmail(receiver,name):\n",
        "    msg = MIMEMultipart()\n",
        "    msg['From'] = \"girkarjunaid@gmail.com\" #enter YOUR EMAIL ADDRESS\n",
        "    password= \"REDACTED\" #enter YOUR PASSWORD\n",
        "    msg['To']= receiver\n",
        "    msg['Subject'] = 'This is a Test Mail'\n",
        "    msg.attach(MIMEText(f\"\"\"<p>Dear {name},This is a mail sent from python script</p><br><p>Thanking you,<br>Junaid Girkar.\"\"\", 'html'))\n",
        " ##\n",
        "    attachment = open('dummy.pdf', \"rb\")\n",
        "    p = MIMEBase('application', 'octet-stream')\n",
        "    p.set_payload((attachment).read())\n",
        "    encoders.encode_base64(p)\n",
        "    p.add_header('Content-Disposition', \"attachment; filename= %s\" % \"This is a PDF.pdf\") \n",
        "    msg.attach(p)\n",
        "\n",
        "    s = smtplib.SMTP('smtp.gmail.com', 587)\n",
        "    s.starttls()\n",
        "    s.login(msg['From'],password)\n",
        "    s.sendmail(msg['From'],msg['To'],msg.as_string())\n",
        "    s.quit()"
      ],
      "execution_count": 13,
      "outputs": []
    },
    {
      "cell_type": "code",
      "metadata": {
        "id": "_h0O2Abs0Bb0",
        "colab": {
          "base_uri": "https://localhost:8080/"
        },
        "outputId": "7f7ae6b7-f46e-4c2b-c8e2-0969549c4549"
      },
      "source": [
        "try:\n",
        "  sendmail('girkarjunaid@gmail.com','Junaid Girkar')\n",
        "  print(\"Mail successfully sent\")\n",
        "except:\n",
        "  print(\"There was some issue with the mail\")"
      ],
      "execution_count": 14,
      "outputs": [
        {
          "output_type": "stream",
          "name": "stdout",
          "text": [
            "Mail successfully sent\n"
          ]
        }
      ]
    },
    {
      "cell_type": "markdown",
      "metadata": {
        "id": "U_ENyFqxHd1C"
      },
      "source": [
        ""
      ]
    },
    {
      "cell_type": "code",
      "metadata": {
        "colab": {
          "base_uri": "https://localhost:8080/"
        },
        "id": "q5xzwv5lJtGc",
        "outputId": "be143d65-90d2-4e47-e2b7-2fc806754c79"
      },
      "source": [
        "!pip install easyimap"
      ],
      "execution_count": 17,
      "outputs": [
        {
          "output_type": "stream",
          "name": "stdout",
          "text": [
            "Collecting easyimap\n",
            "  Downloading easyimap-0.7.0-py3-none-any.whl (6.2 kB)\n",
            "Requirement already satisfied: chardet>=2.3.0 in /usr/local/lib/python3.7/dist-packages (from easyimap) (3.0.4)\n",
            "Installing collected packages: easyimap\n",
            "Successfully installed easyimap-0.7.0\n"
          ]
        }
      ]
    },
    {
      "cell_type": "code",
      "metadata": {
        "colab": {
          "base_uri": "https://localhost:8080/"
        },
        "id": "isMAtfCjJlb1",
        "outputId": "494ef4e8-c455-412e-8b73-bdc26a72ff8f"
      },
      "source": [
        "import easyimap as e\n",
        "\n",
        "password = \"acxvyascviazmhej\"\n",
        "\n",
        "username = \"girkarjunaid@gmail.com\"\n",
        "\n",
        "server = e.connect(\"imap.gmail.com\", username, password)\n",
        "\n",
        "server.listids()\n",
        "\n",
        "email = server.mail(server.listids()[0])\n",
        "print(email.title)\n",
        "print(email.from_addr)\n",
        "print(email.body)"
      ],
      "execution_count": 18,
      "outputs": [
        {
          "output_type": "stream",
          "name": "stdout",
          "text": [
            "This is a Test Mail\n",
            "girkarjunaid@gmail.com\n",
            "<p>Dear Junaid Girkar,This is a mail sent from python script</p><br><p>Thanking you,<br>Junaid Girkar.\n"
          ]
        }
      ]
    }
  ]
}