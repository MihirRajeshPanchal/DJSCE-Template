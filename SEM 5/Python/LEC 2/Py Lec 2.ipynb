{
 "cells": [
  {
   "cell_type": "code",
   "execution_count": 1,
   "id": "cc6c3647",
   "metadata": {},
   "outputs": [
    {
     "name": "stdout",
     "output_type": "stream",
     "text": [
      "Enter your name? JUNAID\n"
     ]
    }
   ],
   "source": [
    "name = input(\"Enter your name? \")"
   ]
  },
  {
   "cell_type": "code",
   "execution_count": 3,
   "id": "107cd32b",
   "metadata": {},
   "outputs": [
    {
     "name": "stdout",
     "output_type": "stream",
     "text": [
      "What is your age? 20\n"
     ]
    }
   ],
   "source": [
    "age = int(input(\"What is your age? \"))"
   ]
  },
  {
   "cell_type": "code",
   "execution_count": 5,
   "id": "83da9af5",
   "metadata": {},
   "outputs": [
    {
     "name": "stdout",
     "output_type": "stream",
     "text": [
      "What is your college's name? DJ Sanghvi\n"
     ]
    }
   ],
   "source": [
    "college_name = input(\"What is your college's name? \")"
   ]
  },
  {
   "cell_type": "code",
   "execution_count": 7,
   "id": "0fa18f45",
   "metadata": {},
   "outputs": [
    {
     "name": "stdout",
     "output_type": "stream",
     "text": [
      "My name is JUNAID\n",
      "I am 20 years old\n",
      "I go to DJ Sanghvi\n"
     ]
    }
   ],
   "source": [
    "print(\"My name is \"+ name + \"\\n\"+ \"I am \"+str(age)+\" years old\\nI go to \"+ college_name)"
   ]
  },
  {
   "cell_type": "code",
   "execution_count": 10,
   "id": "3fed33a9",
   "metadata": {},
   "outputs": [
    {
     "name": "stdout",
     "output_type": "stream",
     "text": [
      "Enter your age 20\n",
      "You are older than 15\n",
      "You are older than 18\n",
      "You are NOT older than 20\n"
     ]
    }
   ],
   "source": [
    "age = int(input(\"Enter your age \"))\n",
    "if(age>15):\n",
    "    print(\"You are older than 15\")\n",
    "    \n",
    "    if(age>18):\n",
    "        print(\"You are older than 18\")\n",
    "        \n",
    "        if(age>20):\n",
    "            print(\"You are older than 20\")\n",
    "        else:\n",
    "            print(\"You are NOT older than 20\")\n",
    "        \n",
    "else:\n",
    "    print(\"You are younger than 15\")"
   ]
  },
  {
   "cell_type": "code",
   "execution_count": 14,
   "id": "af14a366",
   "metadata": {},
   "outputs": [
    {
     "name": "stdout",
     "output_type": "stream",
     "text": [
      "Guess a number 1\n",
      "Guess a number 2\n",
      "Guess a number 3\n",
      "Guess a number 4\n",
      "Guess a number 5\n",
      "Guess a number 6\n",
      "Guess a number 7\n",
      "Guess a number 8\n",
      "You have guessed correctly\n"
     ]
    }
   ],
   "source": [
    "from random import randrange\n",
    "number = randrange(10)\n",
    "correct = False\n",
    "while(correct==False):\n",
    "    input_number = int(input(\"Guess a number \"))\n",
    "    if(input_number == number):\n",
    "        correct = True\n",
    "        print(\"You have guessed correctly\")\n",
    "    else:\n",
    "        correct = False\n",
    "      "
   ]
  },
  {
   "cell_type": "code",
   "execution_count": 2,
   "id": "983cb0fc",
   "metadata": {},
   "outputs": [
    {
     "name": "stdout",
     "output_type": "stream",
     "text": [
      "Sum of 25 numbers is calculated\n",
      "Sum of 50 numbers is calculated\n",
      "3775\n"
     ]
    }
   ],
   "source": [
    "count_range = 100\n",
    "sum = 0\n",
    "while(count_range>0):\n",
    "    sum = sum + count_range\n",
    "    count_range = count_range - 1\n",
    "    if(count_range==75):\n",
    "        print(\"Sum of 25 numbers is calculated\")\n",
    "        continue\n",
    "    if(count_range==50):\n",
    "        print(\"Sum of 50 numbers is calculated\")\n",
    "        break\n",
    "print(sum)"
   ]
  },
  {
   "cell_type": "code",
   "execution_count": 5,
   "id": "abcb9012",
   "metadata": {},
   "outputs": [
    {
     "name": "stdout",
     "output_type": "stream",
     "text": [
      "TYPE: <class 'int'>\n",
      "Multiplication:  5000\n",
      "Addition:  150\n",
      "Subtraction:  50\n",
      "Division:  2.0\n"
     ]
    }
   ],
   "source": [
    "integer_1 = 100\n",
    "integer_2 = 50\n",
    "\n",
    "# various operations on integers\n",
    "print(\"TYPE: \"+str(type(integer_1)))\n",
    "print (\"Multiplication: \", integer_1*integer_2)\n",
    "print (\"Addition: \",integer_1+integer_2)\n",
    "print (\"Subtraction: \", integer_1-integer_2)\n",
    "print (\"Division: \",integer_1/integer_2)"
   ]
  },
  {
   "cell_type": "code",
   "execution_count": 7,
   "id": "d7f0e86c",
   "metadata": {},
   "outputs": [
    {
     "name": "stdout",
     "output_type": "stream",
     "text": [
      "TYPE: <class 'float'>\n",
      "Multiplication:  85.01442\n",
      "Addition:  19.319\n",
      "Subtraction:  5.7589999999999995\n",
      "Division:  1.849410029498525\n"
     ]
    }
   ],
   "source": [
    "float_1 = 12.539\n",
    "float_2 = 6.78\n",
    "\n",
    "# various operations on floats\n",
    "print(\"TYPE: \"+str(type(float_1)))\n",
    "print (\"Multiplication: \", float_1*float_2)\n",
    "print (\"Addition: \",float_1+float_2)\n",
    "print (\"Subtraction: \", float_1-float_2)\n",
    "print (\"Division: \",float_1/float_2)\n"
   ]
  },
  {
   "cell_type": "code",
   "execution_count": 8,
   "id": "e80dccba",
   "metadata": {},
   "outputs": [
    {
     "name": "stdout",
     "output_type": "stream",
     "text": [
      "Type:  <class 'bool'>\n",
      "True\n"
     ]
    }
   ],
   "source": [
    "has_passed = False  #Default Value\n",
    "marks = 80\n",
    "if (marks > 50):\n",
    "    # true has been assigned to has_passed (a boolean)    \n",
    "    has_passed = True\n",
    "print(\"Type: \", str(type(has_passed)))\n",
    "print (has_passed)"
   ]
  }
 ],
 "metadata": {
  "kernelspec": {
   "display_name": "Python 3 (ipykernel)",
   "language": "python",
   "name": "python3"
  },
  "language_info": {
   "codemirror_mode": {
    "name": "ipython",
    "version": 3
   },
   "file_extension": ".py",
   "mimetype": "text/x-python",
   "name": "python",
   "nbconvert_exporter": "python",
   "pygments_lexer": "ipython3",
   "version": "3.9.2"
  }
 },
 "nbformat": 4,
 "nbformat_minor": 5
}
